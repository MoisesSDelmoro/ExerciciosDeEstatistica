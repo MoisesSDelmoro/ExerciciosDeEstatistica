{
 "cells": [
  {
   "cell_type": "code",
   "execution_count": 1,
   "metadata": {},
   "outputs": [
    {
     "data": {
      "text/plain": [
       "Router1   -62.490\n",
       "Router2   -56.276\n",
       "Router3   -60.520\n",
       "Router4   -64.182\n",
       "Router5   -70.262\n",
       "Router6   -82.920\n",
       "Router7   -84.026\n",
       "Room        1.000\n",
       "dtype: float64"
      ]
     },
     "execution_count": 1,
     "metadata": {},
     "output_type": "execute_result"
    }
   ],
   "source": [
    "import numpy as np\n",
    "import pandas as pd\n",
    "\n",
    "dataframe = pd.read_fwf('../Estatisticas'+'/data.txt',header=None,\n",
    "names=[\"Router1\", \"Router2\", \"Router3\", \"Router4\",\"Router5\",\"Router6\",\n",
    "\"Router7\", \"Room\"])\n",
    "\n",
    "def media_col(sala, dataframe):\n",
    "    a = dataframe[dataframe['Room']==sala]\n",
    "    a = a.sum(axis=0)\n",
    "    \n",
    "    tam = dataframe[dataframe['Room']==1].shape\n",
    "    a = a / tam[0]\n",
    "    return a\n",
    "\n",
    "media_col (1, dataframe)\n"
   ]
  },
  {
   "cell_type": "code",
   "execution_count": 6,
   "metadata": {},
   "outputs": [
    {
     "data": {
      "text/plain": [
       "Router1   -36.924\n",
       "Router2   -56.108\n",
       "Router3   -55.902\n",
       "Router4   -38.066\n",
       "Router5   -67.614\n",
       "Router6   -72.644\n",
       "Router7   -73.498\n",
       "Room        2.000\n",
       "dtype: float64"
      ]
     },
     "execution_count": 6,
     "metadata": {},
     "output_type": "execute_result"
    }
   ],
   "source": [
    "media_col (2, dataframe)"
   ]
  },
  {
   "cell_type": "code",
   "execution_count": 3,
   "metadata": {},
   "outputs": [
    {
     "data": {
      "text/plain": [
       "Router1   -49.726\n",
       "Router2   -54.886\n",
       "Router3   -52.784\n",
       "Router4   -50.702\n",
       "Router5   -63.232\n",
       "Router6   -81.368\n",
       "Router7   -82.392\n",
       "Room        3.000\n",
       "dtype: float64"
      ]
     },
     "execution_count": 3,
     "metadata": {},
     "output_type": "execute_result"
    }
   ],
   "source": [
    "media_col (3, dataframe)"
   ]
  },
  {
   "cell_type": "code",
   "execution_count": 4,
   "metadata": {},
   "outputs": [
    {
     "data": {
      "text/plain": [
       "Router1   -60.182\n",
       "Router2   -55.224\n",
       "Router3   -50.650\n",
       "Router4   -61.316\n",
       "Router5   -49.454\n",
       "Router6   -87.008\n",
       "Router7   -86.990\n",
       "Room        4.000\n",
       "dtype: float64"
      ]
     },
     "execution_count": 4,
     "metadata": {},
     "output_type": "execute_result"
    }
   ],
   "source": [
    "media_col (4, dataframe)"
   ]
  },
  {
   "cell_type": "code",
   "execution_count": null,
   "metadata": {},
   "outputs": [],
   "source": []
  }
 ],
 "metadata": {
  "kernelspec": {
   "display_name": "Python 3",
   "language": "python",
   "name": "python3"
  },
  "language_info": {
   "codemirror_mode": {
    "name": "ipython",
    "version": 3
   },
   "file_extension": ".py",
   "mimetype": "text/x-python",
   "name": "python",
   "nbconvert_exporter": "python",
   "pygments_lexer": "ipython3",
   "version": "3.7.6"
  }
 },
 "nbformat": 4,
 "nbformat_minor": 4
}
